{
 "cells": [
  {
   "cell_type": "code",
   "execution_count": 1,
   "id": "73556ce2",
   "metadata": {},
   "outputs": [],
   "source": [
    "import numpy as np\n",
    "import pandas as pd\n",
    "import networkx as nx"
   ]
  },
  {
   "cell_type": "code",
   "execution_count": 2,
   "id": "3d93233e",
   "metadata": {},
   "outputs": [],
   "source": [
    "from itertools import combinations, permutations\n",
    "import sys\n",
    "import pygraphviz as pvg\n",
    "import matplotlib.pyplot as plt\n",
    "from scoring_ilp import (DiscreteData,BDeu)\n",
    "import networkx as nx\n",
    "import pandas as pd\n",
    "import numpy as np\n"
   ]
  },
  {
   "cell_type": "code",
   "execution_count": 3,
   "id": "5b32f4c0",
   "metadata": {},
   "outputs": [],
   "source": [
    "from gurobipy import Model, GRB, quicksum"
   ]
  },
  {
   "cell_type": "code",
   "execution_count": 4,
   "id": "b11a8cf2",
   "metadata": {},
   "outputs": [],
   "source": [
    "#from scoring_ilp_prunning import DiscreteData, BDeu\n",
    "from scoring_ilp import DiscreteData, BDeu"
   ]
  },
  {
   "cell_type": "code",
   "execution_count": 5,
   "id": "0161c386",
   "metadata": {},
   "outputs": [],
   "source": [
    "# Class for Graphs\n",
    "class ILPGraph:\n",
    "    \"\"\" Wrapper class for graph instances and variables of a related integer linear program\n",
    "    \"\"\"\n",
    "\n",
    "    def set_nx_graph(self, G):\n",
    "        \"\"\" Set the underlying NetworkX graph\n",
    "\n",
    "        :param G: a `NetworkX graph <https://networkx.org/documentation/stable/reference/introduction.html#graphs>`__\n",
    "        \"\"\"\n",
    "        self.G = G\n",
    "\n",
    "    def set_edge_vars(self, variables):\n",
    "        \"\"\" Set the dictionary of edge variables\n",
    "\n",
    "        :param variables: a dictionary with variable names as keys and gurobipy variables as values\n",
    "        \"\"\"\n",
    "        self.edge_variables = variables\n",
    "\n",
    "    def set_node_vars(self, variables):\n",
    "        \"\"\" Set the dictionary of node variables\n",
    "\n",
    "        :param variables: a dictionary with variable names as keys and gurobipy variables as values\n",
    "        \"\"\"\n",
    "        self.node_variables = variables\n",
    "\n",
    "    def set_label_vars(self, variables):\n",
    "        \"\"\" Set the dictionary of node label variables\n",
    "\n",
    "        :param variables: a dictionary with variable names as keys and gurobipy variables as values\n",
    "        \"\"\"\n",
    "        self.label_variables = variables\n",
    "    \n",
    "    #New variable to add labels into the edges\n",
    "    def set_label_edges(self, variables):\n",
    "        \"\"\" Set the dictionary of edges label variables\n",
    "\n",
    "        :param variables: a dictionary with edges names as keys and gurobipy variables as values\n",
    "        \"\"\"\n",
    "        self.label_edges = variables\n",
    "        "
   ]
  },
  {
   "cell_type": "markdown",
   "id": "5e570cc2",
   "metadata": {},
   "source": [
    "# Ground Truth"
   ]
  },
  {
   "cell_type": "code",
   "execution_count": 6,
   "id": "58d74ba3",
   "metadata": {},
   "outputs": [
    {
     "data": {
      "image/png": "[encoded data removed]",
      "text/plain": [
       "<Figure size 504x360 with 1 Axes>"
      ]
     },
     "metadata": {},
     "output_type": "display_data"
    }
   ],
   "source": [
    "#plotting the ground truth graph\n",
    "#adj_no_feasible.pkl\n",
    "adj = pd.read_pickle('adj.pkl')\n",
    "D = nx.DiGraph(adj, directed=True)\n",
    "pos = nx.drawing.nx_agraph.graphviz_layout(D, prog='dot')\n",
    "options = {\n",
    "    'node_size': 350,\n",
    "    'node_shape': 's',\n",
    "    'width': 2,\n",
    "    'arrowstyle': '-|>',\n",
    "    'arrowsize': 10,\n",
    "}\n",
    "plt.figure(num=None,  figsize=(7, 5))\n",
    "nx.draw_networkx(D, pos, arrows=True, vmin=0, vmax= .5,  cmap=plt.cm.get_cmap('RdBu_r'), **options)\n",
    "plt.show()"
   ]
  },
  {
   "cell_type": "markdown",
   "id": "a2701f53",
   "metadata": {},
   "source": [
    "## Creating the scores"
   ]
  },
  {
   "cell_type": "code",
   "execution_count": 7,
   "id": "8ee693c4",
   "metadata": {},
   "outputs": [],
   "source": [
    "def make_scores(data,palim,pruning):\n",
    "    datos = DiscreteData(data)\n",
    "    score = BDeu(datos, alpha=1).bdeu_scores(palim=palim,pruning=pruning)\n",
    "    return score"
   ]
  },
  {
   "cell_type": "code",
   "execution_count": 8,
   "id": "7820a3e8",
   "metadata": {
    "scrolled": false
   },
   "outputs": [],
   "source": [
    "#If `pruning` delete those parent sets which have a subset with a better score\n",
    "# palim : max number of parents that a node can have\n",
    "scores = make_scores('exp_cris.dat',palim=3,pruning=True)\n"
   ]
  },
  {
   "cell_type": "code",
   "execution_count": 9,
   "id": "241b201a",
   "metadata": {},
   "outputs": [
    {
     "data": {
      "text/plain": [
       "{'0': {frozenset(): -1414.276339262884,\n",
       "  frozenset({'1'}): -1369.5230848525825,\n",
       "  frozenset({'4'}): -1381.4433150246186,\n",
       "  frozenset({'1', '4'}): -1336.7528653668996},\n",
       " '1': {frozenset(): -3359.865301724989, frozenset({'0'}): -3315.1120473146875},\n",
       " '2': {frozenset(): -5969.896552824794,\n",
       "  frozenset({'3'}): -4617.9810018416465,\n",
       "  frozenset({'4'}): -5359.111691210594,\n",
       "  frozenset({'3', '4'}): -4181.438556422174},\n",
       " '3': {frozenset(): -6579.861411975391,\n",
       "  frozenset({'2'}): -5227.945860992244,\n",
       "  frozenset({'4'}): -6413.288508509635},\n",
       " '4': {frozenset(): -3279.763215644416,\n",
       "  frozenset({'0'}): -3246.9301914061507,\n",
       "  frozenset({'2'}): -2668.978354030216,\n",
       "  frozenset({'3'}): -3113.19031217866,\n",
       "  frozenset({'0', '2'}): -2642.8130189180083,\n",
       "  frozenset({'0', '3'}): -3085.0725957698887}}"
      ]
     },
     "execution_count": 9,
     "metadata": {},
     "output_type": "execute_result"
    }
   ],
   "source": [
    "scores"
   ]
  },
  {
   "cell_type": "code",
   "execution_count": 10,
   "id": "90fa6a7d",
   "metadata": {},
   "outputs": [],
   "source": [
    "bn_variables = DiscreteData('exp_cris.dat').variables()"
   ]
  },
  {
   "cell_type": "markdown",
   "id": "a49a9953",
   "metadata": {},
   "source": [
    "## Building initial graph"
   ]
  },
  {
   "cell_type": "code",
   "execution_count": 11,
   "id": "f8485985",
   "metadata": {},
   "outputs": [],
   "source": [
    "G = nx.DiGraph()"
   ]
  },
  {
   "cell_type": "code",
   "execution_count": 12,
   "id": "b9541ec5",
   "metadata": {},
   "outputs": [],
   "source": [
    "#building the graph from the dictionary of parents to optimize\n",
    "\n",
    "for child, parent_dict in list(scores.items()):\n",
    "    for parent_set, score in list(parent_dict.items()):\n",
    "        if parent_set == frozenset():\n",
    "            continue\n",
    "            #if int(child) != 0 :\n",
    "                #G.add_weighted_edges_from([(0, int(child), score)])\n",
    "        elif len(parent_set) > 1: \n",
    "            G.add_weighted_edges_from([(tuple([int(parent) for parent in parent_set]), int(child), score)])\n",
    "        else:\n",
    "            G.add_weighted_edges_from([([int(parent) for parent in parent_set][0], int(child), score)])\n",
    "        \n"
   ]
  },
  {
   "cell_type": "code",
   "execution_count": 13,
   "id": "0430a88c",
   "metadata": {},
   "outputs": [
    {
     "data": {
      "image/png": "[encoded data removed]",
      "text/plain": [
       "<Figure size 360x360 with 1 Axes>"
      ]
     },
     "metadata": {},
     "output_type": "display_data"
    }
   ],
   "source": [
    "pos = nx.drawing.nx_agraph.graphviz_layout(D, prog='dot')\n",
    "f = plt.figure(figsize=(5,5))\n",
    "nx.draw_networkx(G,arrows=True, vmin=0, vmax= .5,  cmap=plt.cm.get_cmap('RdBu_r'), **options)"
   ]
  },
  {
   "cell_type": "markdown",
   "id": "c4110d23",
   "metadata": {},
   "source": [
    "# ILP formulation"
   ]
  },
  {
   "cell_type": "code",
   "execution_count": 14,
   "id": "7080bc68",
   "metadata": {},
   "outputs": [
    {
     "name": "stdout",
     "output_type": "stream",
     "text": [
      "Using license file /opt/gurobi/gurobi.lic\n"
     ]
    }
   ],
   "source": [
    "# Initiating model\n",
    "m = Model()"
   ]
  },
  {
   "cell_type": "code",
   "execution_count": 15,
   "id": "d2c2d9ee",
   "metadata": {},
   "outputs": [],
   "source": [
    "# Implementing the ILPGraph class \n",
    "\n",
    "ilpg = ILPGraph()\n",
    "ilpg.set_nx_graph(G)"
   ]
  },
  {
   "cell_type": "markdown",
   "id": "7941f552",
   "metadata": {},
   "source": [
    "### Creating variables"
   ]
  },
  {
   "cell_type": "code",
   "execution_count": 16,
   "id": "8549fad2",
   "metadata": {},
   "outputs": [],
   "source": [
    "ilpg.set_edge_vars(m.addVars(ilpg.G.edges(), vtype=GRB.BINARY))"
   ]
  },
  {
   "cell_type": "code",
   "execution_count": 17,
   "id": "cb311c27",
   "metadata": {},
   "outputs": [],
   "source": [
    "nbr_nodes = ilpg.G.number_of_nodes()\n",
    "nodes = list(ilpg.G.nodes())"
   ]
  },
  {
   "cell_type": "code",
   "execution_count": 18,
   "id": "7ccd993c",
   "metadata": {},
   "outputs": [],
   "source": [
    "# Add labels for nodes\n",
    "label_vars = m.addVars(ilpg.G.nodes(), lb=0, ub=len(bn_variables)-1, vtype=GRB.INTEGER)\n",
    "ilpg.set_label_vars(label_vars)\n"
   ]
  },
  {
   "cell_type": "code",
   "execution_count": 19,
   "id": "d8bed61d",
   "metadata": {},
   "outputs": [],
   "source": [
    "m.update()"
   ]
  },
  {
   "cell_type": "code",
   "execution_count": 20,
   "id": "47effe00",
   "metadata": {},
   "outputs": [],
   "source": [
    "edges = ilpg.edge_variables\n",
    "initial_node = nodes[0]"
   ]
  },
  {
   "cell_type": "markdown",
   "id": "9b6eae1b",
   "metadata": {},
   "source": [
    "### Creating constraints"
   ]
  },
  {
   "cell_type": "code",
   "execution_count": 21,
   "id": "4457bd66",
   "metadata": {},
   "outputs": [],
   "source": [
    "# First Constraint\n",
    "for node in ilpg.G.nodes():\n",
    "    # Exactly one outgoing connection from every node\n",
    "      m.addConstr(quicksum([edges[e] for e in ilpg.G.edges(node)]) == 1)"
   ]
  },
  {
   "cell_type": "code",
   "execution_count": 22,
   "id": "a4b38630",
   "metadata": {},
   "outputs": [],
   "source": [
    "# #Create constraints with SUM\n",
    "#m.addConstr(label_vars[initial_node] == 0)\n",
    "for (u, v) in ilpg.G.edges():\n",
    "    if (v != initial_node):\n",
    "        m.addConstr(label_vars[u] >= label_vars[v] + edges[(u, v)]  -  len(bn_variables) * (1 - edges[(u, v)]))\n"
   ]
  },
  {
   "cell_type": "markdown",
   "id": "efd6fbcc",
   "metadata": {},
   "source": [
    "### Setting objective to optimize "
   ]
  },
  {
   "cell_type": "code",
   "execution_count": 23,
   "id": "6c6f3976",
   "metadata": {},
   "outputs": [],
   "source": [
    "direction=GRB.MAXIMIZE\n",
    "m.setObjective(quicksum([edges[(u, v)] * w.get('weight', 1) for (u, v , w) in ilpg.G.edges(data=True)]), direction)\n",
    "m.update()"
   ]
  },
  {
   "cell_type": "code",
   "execution_count": 24,
   "id": "fd21a558",
   "metadata": {},
   "outputs": [
    {
     "name": "stdout",
     "output_type": "stream",
     "text": [
      "Gurobi Optimizer version 9.1.0 build v9.1.0rc0 (linux64)\n",
      "Thread count: 6 physical cores, 12 logical processors, using up to 12 threads\n",
      "Optimize a model with 22 rows, 23 columns and 53 nonzeros\n",
      "Model fingerprint: 0xaffe5819\n",
      "Variable types: 0 continuous, 23 integer (14 binary)\n",
      "Coefficient statistics:\n",
      "  Matrix range     [1e+00, 6e+00]\n",
      "  Objective range  [1e+03, 6e+03]\n",
      "  Bounds range     [1e+00, 4e+00]\n",
      "  RHS range        [1e+00, 5e+00]\n",
      "Found heuristic solution: objective -24599.11484\n",
      "Presolve removed 22 rows and 23 columns\n",
      "Presolve time: 0.00s\n",
      "Presolve: All rows and columns removed\n",
      "\n",
      "Explored 0 nodes (0 simplex iterations) in 0.01 seconds\n",
      "Thread count was 1 (of 12 available processors)\n",
      "\n",
      "Solution count 2: -23094.3 \n",
      "No other solutions better than -23094.3\n",
      "\n",
      "Optimal solution found (tolerance 1.00e-04)\n",
      "Best objective -2.309432414988e+04, best bound -2.309432414988e+04, gap 0.0000%\n"
     ]
    }
   ],
   "source": [
    "m.optimize()"
   ]
  },
  {
   "cell_type": "code",
   "execution_count": 25,
   "id": "941b2868",
   "metadata": {},
   "outputs": [
    {
     "name": "stdout",
     "output_type": "stream",
     "text": [
      "Optimal objective: -23094.3\n"
     ]
    }
   ],
   "source": [
    "# check status of te model\n",
    "#-52486.8 \n",
    "if m.status == GRB.OPTIMAL:   \n",
    "    print('Optimal objective: %g' % m.objVal)\n",
    "elif m.status == GRB.INF_OR_UNBD:    \n",
    "    print('Model is infeasible or unbounded')    \n",
    "elif m.status == GRB.INFEASIBLE:   \n",
    "    print('Model is infeasible')    \n",
    "elif m.status == GRB.UNBOUNDED:    \n",
    "    print('Model is unbounded')    \n",
    "else:  \n",
    "    print('Optimization ended with status %d' % m.status)   \n",
    "    \n",
    "#-23026.1"
   ]
  },
  {
   "cell_type": "markdown",
   "id": "09d7e09e",
   "metadata": {},
   "source": [
    "## Extracting results"
   ]
  },
  {
   "cell_type": "code",
   "execution_count": 26,
   "id": "fbc4721b",
   "metadata": {},
   "outputs": [],
   "source": [
    "edge_vars = ilpg.edge_variables\n",
    "tour = [edge for edge, edge_var in edge_vars.items() if edge_var.X > 0.5]"
   ]
  },
  {
   "cell_type": "code",
   "execution_count": 27,
   "id": "a9ba8108",
   "metadata": {},
   "outputs": [
    {
     "data": {
      "image/png": "[encoded data removed]",
      "text/plain": [
       "<Figure size 432x288 with 1 Axes>"
      ]
     },
     "metadata": {},
     "output_type": "display_data"
    }
   ],
   "source": [
    "M = nx.DiGraph()\n",
    "M.add_edges_from(tour)\n",
    "nx.draw_networkx(M, arrows=True, vmin=0, vmax= .5,  cmap=plt.cm.get_cmap('RdBu_r'), **options)"
   ]
  },
  {
   "cell_type": "code",
   "execution_count": 28,
   "id": "207b90d5",
   "metadata": {},
   "outputs": [],
   "source": [
    "def get_DAG(tour):\n",
    "    new_dict = {}\n",
    "    for pa, child in tour:\n",
    "        if str(child) not in new_dict.keys():\n",
    "            new_dict[str(child)] = {}\n",
    "        if isinstance(pa, tuple):\n",
    "            new_dict[str(child)][frozenset([str(p) for p in pa])] = scores[str(child)][frozenset([str(p) for p in pa])]\n",
    "        else:\n",
    "            new_dict[str(child)][frozenset({str(pa)})] = scores[str(child)][frozenset({str(pa)})]\n",
    "    \n",
    "    for child, parent_family in new_dict.items():\n",
    "        parent_sets = list(parent_family.keys())\n",
    "        for parent_set in parent_sets:\n",
    "            if len(parent_set) >= 2:\n",
    "                for parent in parent_set:\n",
    "                    try:\n",
    "                        if new_dict[child][frozenset({parent})] < new_dict[child][parent_set]:\n",
    "                            new_dict[child][frozenset({parent})] = new_dict[child][parent_set]\n",
    "                    except:\n",
    "                        new_dict[child][frozenset({parent})] = new_dict[child][parent_set]\n",
    "                del new_dict[child][parent_set]\n",
    "            \n",
    "    \n",
    "    tuples = []\n",
    "    score_values = []\n",
    "    for child, parent_set in new_dict.items():\n",
    "        for parent, score in parent_set.items():\n",
    "            parent_int, *_ = parent\n",
    "            tuples.append((int(child), int(parent_int)))\n",
    "            score_values.append(score)\n",
    "\n",
    "    for i, ti in enumerate(tuples):\n",
    "        for j, tj in enumerate(tuples):\n",
    "            if ti != tj:\n",
    "                if sorted(ti) == sorted(tj):\n",
    "                    try:\n",
    "                        if score_values[i] >= score_values[j]:\n",
    "                            del new_dict[str(tj[0])][frozenset(str(tj[1]))]\n",
    "                        else:\n",
    "                            del new_dict[str(ti[0])][frozenset(str(ti[1]))]\n",
    "                    except KeyError:\n",
    "                        continue\n",
    "                        \n",
    "    G = nx.DiGraph()\n",
    "    for child, parent_dict in list(new_dict.items()):\n",
    "        for parent_set, score in list(parent_dict.items()):\n",
    "            if parent_set == frozenset():\n",
    "                continue\n",
    "                #if int(child) != 0 :\n",
    "                    #G.add_weighted_edges_from([(0, int(child), score)])\n",
    "            elif len(parent_set) > 1: \n",
    "                G.add_weighted_edges_from([(tuple([int(parent) for parent in parent_set]), int(child), score)])\n",
    "            else:\n",
    "                G.add_weighted_edges_from([([int(parent) for parent in parent_set][0], int(child), score)])\n",
    "    return G"
   ]
  },
  {
   "cell_type": "markdown",
   "id": "4b2cae0b",
   "metadata": {},
   "source": [
    "## Eliminate redundants"
   ]
  },
  {
   "cell_type": "code",
   "execution_count": 29,
   "id": "8e1a9dd2",
   "metadata": {},
   "outputs": [],
   "source": [
    "graph = get_DAG(tour)"
   ]
  },
  {
   "cell_type": "code",
   "execution_count": 30,
   "id": "ba4a802b",
   "metadata": {},
   "outputs": [
    {
     "data": {
      "image/png": "[encoded data removed]",
      "text/plain": [
       "<Figure size 432x288 with 1 Axes>"
      ]
     },
     "metadata": {},
     "output_type": "display_data"
    }
   ],
   "source": [
    "# ploting resulting graph, \n",
    "nx.draw_networkx(graph,pos, arrows=True, vmin=0, vmax= .5,  cmap=plt.cm.get_cmap('RdBu_r'), **options)"
   ]
  },
  {
   "cell_type": "markdown",
   "id": "538c5564",
   "metadata": {},
   "source": [
    "## With out the heuristic  extraction"
   ]
  },
  {
   "cell_type": "code",
   "execution_count": 31,
   "id": "daf19e37",
   "metadata": {},
   "outputs": [],
   "source": [
    "#spliting the parent sets and dropping duplicates\n",
    "\n",
    "tour_split = []\n",
    "for i, j in tour:\n",
    "    if isinstance(i, tuple):\n",
    "        for i1 in range(len(i)):\n",
    "            tour_split.append((i[i1], j))\n",
    "    elif isinstance(j, tuple):\n",
    "        for j1 in range(len(j)):\n",
    "            tour_split.append((i, j[j1]))\n",
    "    else:\n",
    "        tour_split.append((i, j))\n",
    "y = np.unique(tour_split, axis=0)\n",
    "tour_new = [] \n",
    "for i in y:\n",
    "    tour_new.append(tuple(i))"
   ]
  },
  {
   "cell_type": "code",
   "execution_count": 32,
   "id": "1ae51bde",
   "metadata": {},
   "outputs": [
    {
     "data": {
      "image/png": "[encoded data removed]",
      "text/plain": [
       "<Figure size 432x288 with 1 Axes>"
      ]
     },
     "metadata": {},
     "output_type": "display_data"
    }
   ],
   "source": [
    "# Plotting CPDAG\n",
    "M = nx.DiGraph()\n",
    "M.add_edges_from(tour_new)\n",
    "nx.draw_networkx(M,pos, arrows=True, vmin=0, vmax= .5,  cmap=plt.cm.get_cmap('RdBu_r'), **options)"
   ]
  },
  {
   "cell_type": "code",
   "execution_count": 33,
   "id": "c5cff650",
   "metadata": {},
   "outputs": [],
   "source": [
    "from pcalg import topological_sort_grouped, diff_DAG, rec_directions, difference"
   ]
  },
  {
   "cell_type": "markdown",
   "id": "0bc26f25",
   "metadata": {},
   "source": [
    "## Metrics of the result vs the ground truth"
   ]
  },
  {
   "cell_type": "code",
   "execution_count": 34,
   "id": "8452e237",
   "metadata": {},
   "outputs": [],
   "source": [
    "(precision_pc, recall_pc, edges) = diff_DAG(D, M)\n",
    "precision_dir_pc,recall_dir_pc = rec_directions(D, M)"
   ]
  },
  {
   "cell_type": "code",
   "execution_count": 35,
   "id": "f6490939",
   "metadata": {},
   "outputs": [
    {
     "name": "stdout",
     "output_type": "stream",
     "text": [
      "0.8 0.8 5\n",
      "0.375 0.6\n"
     ]
    }
   ],
   "source": [
    "print(precision_pc, recall_pc, edges)\n",
    "print(precision_dir_pc,recall_dir_pc)"
   ]
  },
  {
   "cell_type": "code",
   "execution_count": 36,
   "id": "66031892",
   "metadata": {},
   "outputs": [],
   "source": [
    "(precision_pc, recall_pc, edges) = diff_DAG(D, graph)\n",
    "precision_dir_pc,recall_dir_pc = rec_directions(D, graph)"
   ]
  },
  {
   "cell_type": "code",
   "execution_count": 37,
   "id": "ac2ba6b0",
   "metadata": {},
   "outputs": [
    {
     "name": "stdout",
     "output_type": "stream",
     "text": [
      "0.8 0.8 5\n",
      "0.4 0.4\n"
     ]
    }
   ],
   "source": [
    "print(precision_pc, recall_pc, edges)\n",
    "print(precision_dir_pc,recall_dir_pc)"
   ]
  }
 ],
 "metadata": {
  "finalized": {
   "timestamp": 1636991210434,
   "trusted": true
  },
  "kernelspec": {
   "display_name": "python3.8",
   "language": "python",
   "name": "python3.8"
  },
  "language_info": {
   "codemirror_mode": {
    "name": "ipython",
    "version": 3
   },
   "file_extension": ".py",
   "mimetype": "text/x-python",
   "name": "python",
   "nbconvert_exporter": "python",
   "pygments_lexer": "ipython3",
   "version": "3.8.9"
  }
 },
 "nbformat": 4,
 "nbformat_minor": 5
}
